{
 "cells": [
  {
   "cell_type": "code",
   "execution_count": 1,
   "id": "bdd1d867-7335-43bf-8343-53dedaeb3f44",
   "metadata": {},
   "outputs": [],
   "source": [
    "def Pad_array(l1,l2,array):\n",
    "    \n",
    "    # Determine the required padding\n",
    "    rows_to_pad = l1 - l2\n",
    "    cols_to_pad = l1 - l2\n",
    "    \n",
    "    # Pad the array with zeros\n",
    "    if rows_to_pad > 0 or cols_to_pad > 0:\n",
    "        row_padding = rows_to_pad // 2\n",
    "        col_padding = cols_to_pad // 2\n",
    "        array_padded = np.pad(array, ((row_padding, rows_to_pad - row_padding), (col_padding, cols_to_pad - col_padding)), mode='constant')\n",
    "    else:\n",
    "        array_padded = array  # No padding needed\n",
    "\n",
    "    return array_padded"
   ]
  }
 ],
 "metadata": {
  "kernelspec": {
   "display_name": "Python 3 (ipykernel)",
   "language": "python",
   "name": "python3"
  },
  "language_info": {
   "codemirror_mode": {
    "name": "ipython",
    "version": 3
   },
   "file_extension": ".py",
   "mimetype": "text/x-python",
   "name": "python",
   "nbconvert_exporter": "python",
   "pygments_lexer": "ipython3",
   "version": "3.11.5"
  }
 },
 "nbformat": 4,
 "nbformat_minor": 5
}
